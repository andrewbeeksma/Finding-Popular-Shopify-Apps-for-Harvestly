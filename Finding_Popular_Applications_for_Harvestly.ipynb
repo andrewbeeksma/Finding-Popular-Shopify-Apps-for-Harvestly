{
  "nbformat": 4,
  "nbformat_minor": 0,
  "metadata": {
    "kernelspec": {
      "display_name": "Python 3",
      "language": "python",
      "name": "python3"
    },
    "language_info": {
      "codemirror_mode": {
        "name": "ipython",
        "version": 3
      },
      "file_extension": ".py",
      "mimetype": "text/x-python",
      "name": "python",
      "nbconvert_exporter": "python",
      "pygments_lexer": "ipython3",
      "version": "3.7.6"
    },
    "colab": {
      "name": "Finding Popular Applications for Harvestly",
      "provenance": [],
      "collapsed_sections": [],
      "toc_visible": true,
      "include_colab_link": true
    }
  },
  "cells": [
    {
      "cell_type": "markdown",
      "metadata": {
        "id": "view-in-github",
        "colab_type": "text"
      },
      "source": [
        "<a href=\"https://colab.research.google.com/github/andrewbeeksma/Finding-Popular-Shopify-Apps-for-Harvestly/blob/master/Finding_Popular_Applications_for_Harvestly.ipynb\" target=\"_parent\"><img src=\"https://colab.research.google.com/assets/colab-badge.svg\" alt=\"Open In Colab\"/></a>"
      ]
    },
    {
      "cell_type": "markdown",
      "metadata": {
        "id": "RQSOzhpYyUWV",
        "colab_type": "text"
      },
      "source": [
        "# Popular Shopify Apps"
      ]
    },
    {
      "cell_type": "markdown",
      "metadata": {
        "id": "3HIl8XpByUWa",
        "colab_type": "text"
      },
      "source": [
        "**Why:** Being new to E-commerce, it's always good to learn from the best. Here is an Excel sheet with the most popular Shopify websites and their apps. We're looking to find the most used apps by these websites so we can find good ones to implement on our site.\n",
        "\n",
        "I.e. Klaviyo is mentioned 105 times, far more than any other of the major marketing apps like Omnisend, so we should add that one instead.\n",
        "\n",
        "Problem is, I'm not sure how to filter the most used apps without Command+F every single one in the excel sheet. Is there some code to help us find this?"
      ]
    },
    {
      "cell_type": "markdown",
      "metadata": {
        "id": "dR0SmY7-yUWc",
        "colab_type": "text"
      },
      "source": [
        "The first part of this process is to read in the files I need, and create an array to work with the data. I'm going to name this array popular_apps, and print the first two rows so that we can get an idea of the dataset."
      ]
    },
    {
      "cell_type": "code",
      "metadata": {
        "id": "PoOJB1LByUWe",
        "colab_type": "code",
        "colab": {
          "base_uri": "https://localhost:8080/",
          "height": 224
        },
        "outputId": "6c1a1599-ce84-4667-b731-e5948229d75f"
      },
      "source": [
        "#Read in csv file\n",
        "from csv import reader\n",
        "import numpy as np\n",
        "import collections\n",
        "opened_file = open('Shopify_apps.csv')\n",
        "read_file = reader(opened_file)\n",
        "apps_list = list(read_file)\n",
        "popular_apps = np.array(apps_list)\n",
        "print(popular_apps[:2])"
      ],
      "execution_count": 9,
      "outputs": [
        {
          "output_type": "stream",
          "text": [
            "[['\\ufeffURL' 'Analytics and Tracking' 'Widgets' 'eCommerce'\n",
            "  'Content Delivery Network' 'Payment' 'Advertising'\n",
            "  'Email Hosting Providers']\n",
            " ['https://builtwith.com/articture.com'\n",
            "  'Wheelio, Klaviyo, Rapleaf, Attentive, Google Analytics, Facebook Signal, Global Site Tag, Google Conversion Tracking, Facebook Pixel'\n",
            "  'Back in Stock, MailChimp, Stamped, Smooch, Google Font API, Google Tag Manager, AddThis, Pinterest'\n",
            "  'Shopify, Wheelio for Shopify, MailChimp for Shopify, NoFraud for Shopify, Last Second Coupon by Hextom, Shopify Product Reviews, Hextom, Snap Pixel for Shopify'\n",
            "  'GStatic Google Static Content, Azure Edge, AJAX Libraries API, jQuery CDN, CDN JS, Cloudflare, StackPath BootstrapCDN, Content Delivery Network'\n",
            "  'NoFraud, Shopify Pay, PayPal, MasterCard, American Express, Venmo, Pound Sterling'\n",
            "  'Facebook Custom Audiences, DoubleClick.Net, Google Remarketing, Snap Pixel, Tapad, SkimLinks, Taboola, DoubleClick Bid Manager'\n",
            "  'Google Apps for Business']]\n"
          ],
          "name": "stdout"
        }
      ]
    },
    {
      "cell_type": "markdown",
      "metadata": {
        "id": "vfqeEwJ1yUWl",
        "colab_type": "text"
      },
      "source": [
        "Looks good! The only thing I notice is that the first element in the first row is titled '\\ufeffURL', so I'm going to rename this element to 'URL' below."
      ]
    },
    {
      "cell_type": "code",
      "metadata": {
        "id": "dU7qJwr7yUWl",
        "colab_type": "code",
        "colab": {
          "base_uri": "https://localhost:8080/",
          "height": 68
        },
        "outputId": "79b93586-b27f-4523-8a6a-9117f62f9b75"
      },
      "source": [
        "popular_apps[0][0] = 'URL'\n",
        "print(popular_apps[0])"
      ],
      "execution_count": 10,
      "outputs": [
        {
          "output_type": "stream",
          "text": [
            "['URL' 'Analytics and Tracking' 'Widgets' 'eCommerce'\n",
            " 'Content Delivery Network' 'Payment' 'Advertising'\n",
            " 'Email Hosting Providers']\n"
          ],
          "name": "stdout"
        }
      ]
    },
    {
      "cell_type": "markdown",
      "metadata": {
        "id": "nQI5zMqNyUWs",
        "colab_type": "text"
      },
      "source": [
        "First, I'm going to create a function that takes in a column index as an argument and returns a frequency table for that column. \n",
        "\n",
        "Second, I'll write a quick function that sorts the frequency table so that the highest values appear at the top. In this function, I'll print the first few lines of the sorted frequency table that is passed into the function. \n",
        "\n",
        "And finally, I'll loop through the 7 columns we want to analyze and print out the 7 most popular apps for that column!"
      ]
    },
    {
      "cell_type": "code",
      "metadata": {
        "id": "cQLLDgsfyUWv",
        "colab_type": "code",
        "colab": {
          "base_uri": "https://localhost:8080/",
          "height": 394
        },
        "outputId": "dab0bf38-efff-4eee-fec0-04bbf9bf456f"
      },
      "source": [
        "def generate_dict_by_col(index):\n",
        "    dict = {}\n",
        "    for row in popular_apps[1:]:\n",
        "        text = row[index].split(', ')\n",
        "        for item in text:\n",
        "            if item not in dict:\n",
        "                dict[item] = 1\n",
        "            else:\n",
        "                dict[item] += 1\n",
        "    return dict\n",
        "\n",
        "def sort_dictionary_by_value(dict):\n",
        "    sorted_dict = sorted(dict.items(), key=lambda kv: kv[1], reverse=True)\n",
        "    final_dict = collections.OrderedDict(sorted_dict)\n",
        "    most_popular = {k: final_dict[k] for k in list(final_dict)[:7]}\n",
        "    print(most_popular)\n",
        "\n",
        "for x in range(1,8):\n",
        "    dict = generate_dict_by_col(x)\n",
        "    print('\\nThe 7 most popular apps for ' + popular_apps[0][x] + ' are: ')\n",
        "    sort_dictionary_by_value(dict)"
      ],
      "execution_count": 11,
      "outputs": [
        {
          "output_type": "stream",
          "text": [
            "\n",
            "The 7 most popular apps for Analytics and Tracking are: \n",
            "{'Google Analytics': 169, 'Global Site Tag': 163, 'Facebook Signal': 160, 'Facebook Pixel': 159, 'Google Conversion Tracking': 121, 'Klaviyo': 105, 'Hotjar': 69}\n",
            "\n",
            "The 7 most popular apps for Widgets are: \n",
            "{'Google Font API': 154, 'Google Tag Manager': 143, 'Font Awesome': 115, 'Pinterest': 88, 'COVID-19': 83, 'Yotpo': 57, 'AddThis': 51}\n",
            "\n",
            "The 7 most popular apps for eCommerce are: \n",
            "{'Shopify': 173, 'Shopify Plus': 111, 'Shopify Product Reviews': 39, 'Flexify': 39, 'Shogun': 35, 'Refersion for Shopify': 30, 'MailChimp for Shopify': 26}\n",
            "\n",
            "The 7 most popular apps for Content Delivery Network are: \n",
            "{'Content Delivery Network': 174, 'Cloudflare': 173, 'AJAX Libraries API': 142, 'CloudFront': 129, 'GStatic Google Static Content': 126, 'CDN JS': 118, 'StackPath BootstrapCDN': 84}\n",
            "\n",
            "The 7 most popular apps for Payment are: \n",
            "{'PayPal': 157, 'Venmo': 150, 'Pound Sterling': 127, 'Shopify Pay': 104, 'Japanese Yen': 72, 'Amazon Payments': 67, 'Visa': 62}\n",
            "\n",
            "The 7 most popular apps for Advertising are: \n",
            "{'DoubleClick.Net': 165, 'Facebook Custom Audiences': 161, 'Google Remarketing': 121, 'Tapad': 55, 'Snap Pixel': 52, 'SkimLinks': 52, 'DoubleClick Bid Manager': 51}\n",
            "\n",
            "The 7 most popular apps for Email Hosting Providers are: \n",
            "{'SPF': 146, 'Google Apps for Business': 121, 'Zendesk': 59, 'DMARC': 36, 'Microsoft Azure DNS': 35, 'Sendgrid': 32, 'Microsoft Exchange Online': 31}\n"
          ],
          "name": "stdout"
        }
      ]
    },
    {
      "cell_type": "markdown",
      "metadata": {
        "id": "3cdHjRuiyUW5",
        "colab_type": "text"
      },
      "source": [
        "Using this data, we can choose from the most popular applications used by successful eCommerce businesses and implement them into Harvestly. This way, if we fail, it won't be because we chose the wrong software!"
      ]
    }
  ]
}